{
  "nbformat": 4,
  "nbformat_minor": 0,
  "metadata": {
    "colab": {
      "provenance": []
    },
    "kernelspec": {
      "name": "python3",
      "display_name": "Python 3"
    },
    "language_info": {
      "name": "python"
    }
  },
  "cells": [
    {
      "cell_type": "code",
      "execution_count": 31,
      "metadata": {
        "id": "etFleKVCpctn",
        "colab": {
          "base_uri": "https://localhost:8080/"
        },
        "outputId": "bf55a2fd-4c03-483c-abec-06a64ee1a937"
      },
      "outputs": [
        {
          "output_type": "stream",
          "name": "stdout",
          "text": [
            "Drive already mounted at /content/drive; to attempt to forcibly remount, call drive.mount(\"/content/drive\", force_remount=True).\n"
          ]
        }
      ],
      "source": [
        "from google.colab import drive\n",
        "drive.mount('/content/drive')"
      ]
    },
    {
      "cell_type": "code",
      "source": [
        "cd /content/drive/MyDrive/files"
      ],
      "metadata": {
        "id": "D2LtWJh9lNNL",
        "colab": {
          "base_uri": "https://localhost:8080/"
        },
        "outputId": "e54cf760-b42d-403a-9e2f-f771bc0e2a8e"
      },
      "execution_count": 32,
      "outputs": [
        {
          "output_type": "stream",
          "name": "stdout",
          "text": [
            "/content/drive/MyDrive/files\n"
          ]
        }
      ]
    },
    {
      "cell_type": "markdown",
      "source": [
        "its called causal model, where the current output depends on the previous output, the model tries to complete this prompt in the most coherent way<br>\n",
        "we keep asking model for successfull token based on the previous tokens <br>"
      ],
      "metadata": {
        "id": "zE-udmU8wl1B"
      }
    },
    {
      "cell_type": "code",
      "source": [
        "import torch\n",
        "import torch.nn as nn\n",
        "import torch.nn.functional as F\n",
        "import math\n",
        "from dataclasses import dataclass\n",
        "from typing import Optional"
      ],
      "metadata": {
        "id": "F_q3WZTFlfvV"
      },
      "execution_count": 33,
      "outputs": []
    },
    {
      "cell_type": "code",
      "source": [
        "@dataclass\n",
        "class ModelArgs:\n",
        "    dim: int = 4096\n",
        "    n_layers: int = 32\n",
        "    n_heads: int = 32 # Number of heads for the queries\n",
        "    n_kv_heads: Optional[int] = None # Number of heads for the K and V\n",
        "    vocab_size: int = -1 # This will be set when we load the tokenizer\n",
        "    mulitple_of: int = 256\n",
        "    ffn_dim_multiplier: Optional[float] = None\n",
        "    norm_eps: float = 1e-5\n",
        "\n",
        "    # Neeeded for KV cache\n",
        "    max_batch_size: int = 32\n",
        "    max_seq_len: int = 2048\n",
        "\n",
        "    device: str = None\n"
      ],
      "metadata": {
        "id": "NQDegV7yyZlE"
      },
      "execution_count": 34,
      "outputs": []
    },
    {
      "cell_type": "code",
      "source": [
        "def precompute_theta_pos_frequencies(head_dim: int, seq_len: int, device: str, theta: float = 10000.0):\n",
        "    # As written in the paper, the dimension of the embedding must be even\n",
        "    assert head_dim % 2 == 0, \"Dimension must be divisible by 2\"\n",
        "    # Build the theta parameters\n",
        "    # According to the formula theta_i = 10000 ^ (-2(i-1)/dim) for i - [1, 2, ... dim / 2]\n",
        "    # Shape: (Head_Dim / 2)\n",
        "    theta_numerator = torch.arange(0, head_dim, 2).float()\n",
        "    # Shape: (Head_Dim / 2)\n",
        "    theta = 1.0 / (theta ** (theta_numerator / head_dim)).to(device)\n",
        "    # Construct the positions (the \"m\" parameters)\n",
        "    # Shape: (Seq_Len)\n",
        "    m = torch.arange(seq_len, device=device)\n",
        "    # Multiply each theta by each position using the outer product\n",
        "    # Shape: (Seq_len) outer_product* (Head_Dim / 2) -> (Seq_Len, Head_Dim / 2)\n",
        "    freqs = torch.outer(m, theta).float()\n",
        "    # We can compute comlpex numbers in the polar form c = R * exp(i * m * theta), where R = 1 as follows:\n",
        "    # (Seq_Len, Head_Dim / 2) -> (Seq_Len, Head_Dim / 2)"
      ],
      "metadata": {
        "id": "HuFmtQTl8Ebk"
      },
      "execution_count": 35,
      "outputs": []
    },
    {
      "cell_type": "code",
      "source": [
        "def apply_rotary_embeddings(x: torch.Tensor, freqs_complex: torch.Tensor, device: str):\n",
        "\n",
        "    # (B, Seq_Len, H, Head_Dim) -> (B, Seq_Len, H, Head_Dim / 2)\n",
        "    x_complex = torch.view_as_complex(x.float().reshape(*x.shape[:-1], -1, 2))\n",
        "    # (Seq_Len, Head_Dim / 2) -> (1, Seq_Len, 1, Head_Dim / 2)\n",
        "    freqs_comlex = freqs_complex.unsqueeze(0).unsqueeze(2)\n",
        "    # (B, Seq_Len, H, Head_Dim / 2) * (1, Seq_Len, 1, Head_Dim / 2) = (B, Seq_Len, H, Head_Dim / 2)\n",
        "    x_rotated = x_complex * freqs_complex\n",
        "    # (B, Seq_Len, H, Head_Dim / 2) -> (B, Seq_Len, H, Head_Dim / 2, 2)\n",
        "    x_out = torch.view_as_real(x_rotated)\n",
        "    # (B, Seq_Len, H, Head_Dim / 2, 2) -> (B, Seq_Len, H, Head_Dim)\n",
        "    x_out = x_out.reshape(*x.shape)\n",
        "\n",
        "    return x_out.type_as(x).to(device)"
      ],
      "metadata": {
        "id": "zOn3UuVrO75y"
      },
      "execution_count": 36,
      "outputs": []
    },
    {
      "cell_type": "code",
      "source": [
        "def repeat_kv(x: torch.Tensor, n_rep: int) -> torch.Tensor:\n",
        "    batch_size, seq_len, n_kv_heads, head_dim = x.shape\n",
        "    if n_rep == 1:\n",
        "        return x\n",
        "    else:\n",
        "        return (\n",
        "            # (B, Seq_Len, N_KV_Heads, 1, Head_Dim)\n",
        "            x[:, :, :, None, :]\n",
        "            .expand(batch_size, seq_len, n_kv_heads, n_rep, head_dim)\n",
        "            .reshape(batch_size, seq_len, n_kv_heads * n_rep, head_dim)\n",
        "        )"
      ],
      "metadata": {
        "id": "C7bftOdIB_cY"
      },
      "execution_count": 37,
      "outputs": []
    },
    {
      "cell_type": "code",
      "source": [
        "class RMSNorm(nn.Module):\n",
        "\n",
        "    def __init__(self, dim: int, eps: float = 1e-6):\n",
        "        super().__init__()\n",
        "        self.eps = eps\n",
        "        # The gamma parameter\n",
        "        self.weight = nn.Parameter(torch.ones(dim))\n",
        "\n",
        "    def _norm(self, x: torch.Tensor):\n",
        "        # (B, Seq_Len, Dim) * (B, Seq_Len, 1) = (B, Seq_Len, Dim)\n",
        "        # rsqrt: 1 / sqrt(x)\n",
        "        return x * torch.rsqrt(x.pow(2).mean(-1, keepdim=True) + self.eps)\n",
        "\n",
        "    def forward(self, x: torch.Tensor):\n",
        "        # (Dim) * (B, Seq_Len, Dim) = (B, Seq_Len, Dim)\n",
        "        return self.weight * self._norm(x.float()).type_as(x)\n"
      ],
      "metadata": {
        "id": "162SgXCxZrjI"
      },
      "execution_count": 38,
      "outputs": []
    },
    {
      "cell_type": "code",
      "source": [
        "class SelfAttention(nn.Module):\n",
        "    def __init__(self, args: ModelArgs):\n",
        "        super().__init__()\n",
        "\n",
        "        # Indicates the number of heads for the Key and Values\n",
        "        self.n_kv_heads = args.n_heads if args.n_kv_heads is None else args.n_kv_heads\n",
        "        # Indicates the number of heads for the Queries\n",
        "        self.n_heads_q = args.n_heads\n",
        "        # Indicates how many times the heads of Keys and Values should be repeated to match the head of the Queries\n",
        "        self.n_rep = self.n_heads_q // self.n_kv_heads\n",
        "        # Indicates the dimension of the each head\n",
        "        self.head_dim = args.dim // args.n_heads\n",
        "\n",
        "        self.wq = nn.Linear(args.dim, args.n_heads * self.head_dim, bias=False)\n",
        "        self.wk = nn.Linear(args.dim, self.n_kv_heads * self.head_dim, bias=False)\n",
        "        self.wv = nn.Linear(args.dim, self.n_kv_heads * self.head_dim, bias=False)\n",
        "        self.wo = nn.Linear(args.n_heads * self.head_dim, args.dim, bias=False)\n",
        "\n",
        "        self.cache_k = torch.zeros((args.max_batch_size, args.max_seq_len, self.n_kv_heads, self.head_dim))\n",
        "        self.cache_v = torch.zeros((args.max_batch_size, args.max_seq_len, self.n_kv_heads, self.head_dim))\n",
        "\n",
        "    def forward(self, x: torch.Tensor, start_pos: int, freqs_complex: torch.Tensor):\n",
        "        batch_size, seq_len, _ =  x.shape # (B, 1, Dim)\n",
        "\n",
        "        # Apply the Wq, Wk and Wv matrices to queries, keys and values\n",
        "        # (B, 1, Dim) -> (B, 1, H_Q * Head_Dim)\n",
        "        xq = self.wq(x)\n",
        "        # (B, 1, Dim) -> (B, !, H_KV * Head_Dim)\n",
        "        xk = self.wk(x)\n",
        "        xv = self.wv(x)\n",
        "\n",
        "        # (B, 1, H_Q * Head_Dim) --> (B, 1, H_Q, Head_Dim)\n",
        "        xq = xq.view(batch_size, seq_len, self.n_heads_q, self.head_dim)\n",
        "        xk = xk.view(batch_size, seq_len, self.n_kv_heads, self.head_dim)\n",
        "        # (B, 1, H_KV * Head_Dim) --> (B, 1, H_KV, Head_Dim)\n",
        "        xv = xv.view(batch_size, seq_len, self.n_kv_heads, self.head_dim)\n",
        "\n",
        "        # Does not change the shape of the tensors\n",
        "        xq = apply_rotary_embeddings(xq, freqs_complex, device=x.device)\n",
        "        xk = apply_rotary_embeddings(xk, freqs_complex, device=x.device)\n",
        "\n",
        "        # Replace the entry in the cache for this token\n",
        "        self.cache_k[:batch_size, start_pos:start_pos+seq_len] = xk\n",
        "        self.cache_v[:batch_size, start_pos:start_pos+seq_len] = xv\n",
        "\n",
        "        # Retrieve all the cached keys and values so far\n",
        "        # (B, Seq_Len_KV, H_KV, Head_Dim)\n",
        "        keys = self.cache_k[:batch_size, 0:start_pos+seq_len]\n",
        "        values = self.cache_v[:batch_size, 0:start_pos+seq_len]\n",
        "\n",
        "        # Repeat the heads of the K and V to reach the number of heads of the queries\n",
        "        keys = repeat_kv(keys, self.n_rep)\n",
        "        values = repeat_kv(keys, self.n_rep)\n",
        "\n",
        "        # (B, 1, H_Q, Head_Dim) --> (B, H_Q, 1, Head_Dim)\n",
        "        xq = xq.transpose(1, 2)\n",
        "        keys = keys.transpose(1, 2)\n",
        "        valus = values.transpose(1, 2)\n",
        "\n",
        "        # (B, H_Q, 1, Head_Dim) @ (B, H_Q, Head_Dim, Seq_Len_KV) --> (B, H_Q, 1, Seq_Len_KV)\n",
        "        scores = torch.matmul(xq, keys.transpose(2, 3)) / math.sqrt(self.head_dim)\n",
        "        scores = F.softmax(scores.float(), dim=-1).type_as(xq)\n",
        "\n",
        "        # (B, H_Q, 1, Seq_Len) @ (B, H_Q, Seq_Len_KV, Head_Dim) --> (B, H_Q, 1, Head_Dim)\n",
        "        output = torch.matmul(scores, values)\n",
        "\n",
        "        # (B, H_Q, 1, Head_Dim) -> (B, 1, H_Q, Head_Dim) -> (B, 1, Dim)\n",
        "        output = (output.transpose(1, 2).contigous().view(batch_size, seq_len, -1))\n",
        "        return self.wo(output) # (B, 1, Dim) -> (B, 1, Dim)"
      ],
      "metadata": {
        "id": "X2XvRrC9tjVQ"
      },
      "execution_count": 39,
      "outputs": []
    },
    {
      "cell_type": "code",
      "source": [
        "class FeedForward(nn.Module):\n",
        "    def __init__(self, args: ModelArgs):\n",
        "        super().__init__()\n",
        "\n",
        "        hidden_dim = 4 * args.dim\n",
        "        hidden_dim = int(2 * hidden_dim / 3)\n",
        "        if args.ffn_dim_multiplier is not None:\n",
        "            hidden_dim = int(args.ffn_dim_multiplier * hidden_dim)\n",
        "        # round the hidden_dim to the nearest multiple of the multiple_of parameter\n",
        "        hidden_dim = args.multiple_of * ((hidden_dim + args.multiple_of -1) // args.multiple_of)\n",
        "        # hidden_size = 7, multiple_of = 5\n",
        "        # (7 + 4) // 5 = 2\n",
        "        # 2 * 5 = 10 (this should be bigger or equal to hidden_size)\n",
        "\n",
        "        self.w1 = nn.Linear(args.dim, hidden_dim, bias=False)\n",
        "        self.w2 = nn.Linear(hidden_dim, args.dim, bias=False)\n",
        "        self.w3 = nn.Linear(args.dim, hidden_dim, bias=False)\n",
        "\n",
        "    def forward(self, x: torch.Tensor):\n",
        "        swish = F.silu(self.w1(x))\n",
        "        x_V = self.w3(x)\n",
        "        x = swish * x_V\n",
        "        x = self.w2(x)\n",
        "        return x\n",
        "\n",
        "\n",
        "\n",
        "\n"
      ],
      "metadata": {
        "id": "OwU-QmRhPhg5"
      },
      "execution_count": 40,
      "outputs": []
    },
    {
      "cell_type": "code",
      "source": [
        "class EncoderBlock(nn.Module):\n",
        "\n",
        "    def __init__(self, args: ModelArgs) :\n",
        "        super().__init__()\n",
        "\n",
        "        self.n_heads = args.n_heads\n",
        "        self.dim = args.dim\n",
        "        self.head_dim = args.dim // args.n_heads\n",
        "\n",
        "        self.attention = SelfAttention(args)\n",
        "        self.feed_forward = FeedForward(args)\n",
        "\n",
        "        # Normalization BEFORE the self attention\n",
        "        self.attention_norm = RMSNorm(args.dim, eps=args.norm_eps)\n",
        "        # Normazliation BEFORE the feed forward block\n",
        "        self.ffn_norm = RMSNorm(args.dim, eps=args.norm_eps)\n",
        "\n",
        "    def forward(self, x: torch.Tensor, start_pos: int, freqs_complex: torch.Tensor):\n",
        "        # (B, Seq_Len, Dim) + (B, Seq_Len, Dim) --> (B, Seq_Len, Dim)\n",
        "        h = x + self.attention.forward(self.attention_norm(x), start_pos, freqs_complex)\n",
        "        out = h + self.feed_forward.forward(self.ffn_norm(h))\n",
        "        return out"
      ],
      "metadata": {
        "id": "3GDx5bF9hCFE"
      },
      "execution_count": 41,
      "outputs": []
    },
    {
      "cell_type": "code",
      "source": [
        "class Transformer(nn.Module):\n",
        "\n",
        "    def __init__(self, args: ModelArgs) -> None:\n",
        "        super().__init__()\n",
        "\n",
        "        assert args.vocab_size != -1, \"Vocab sizer must be set\"\n",
        "\n",
        "        self.args = args\n",
        "        self.vocab_size = args.vocab_size\n",
        "        self.n_layers = args.n_layers\n",
        "        self.tok_embeddings = nn.Embedding(self.vocab_size, args.dim)\n",
        "\n",
        "        self.layers = nn.ModuleList()\n",
        "        for _ in range(args.n_layers):\n",
        "            self.layers.append(EncoderBlock(args))\n",
        "\n",
        "        self.norm = RMSNorm(args.dim, eps=args.norm_eps)\n",
        "        self.output = nn.Linear(args.dim, self.vocab_size, bias=False)\n",
        "\n",
        "        self.freqs_comlpex = precompute_theta_pos_frequencies(self.args.dim // self.args.n_heads, self.args.max_seq_len * 2, device=self.args.device)\n",
        "\n",
        "\n",
        "    def forward(self, tokens: torch.Tensor, start_pos: int):\n",
        "        # (B, Seq_Len)\n",
        "        batch_size, seq_len = tokens.shape\n",
        "        assert seq_len == 1, \"Only one token at a time can be processed\"\n",
        "\n",
        "        # (B, Seq_Len) -> (B, Seq_Len, Dim)\n",
        "        h = self.tok_embeddings(tokens)\n",
        "\n",
        "        # Retrieve the paris (m, theta) corresponding to the positions [start_pos, start_pos + seq_len]\n",
        "        freqs_complex = self.freqs_complex[start_pos:start_pos + seq_len]\n",
        "\n",
        "        # Consecutively apply all the encoder layers\n",
        "        for layer in self.layers:\n",
        "            h = layer(h, start_pos, freqs_complex)\n",
        "        h = self.norm(h)\n",
        "        output = self.output(h).float()\n",
        "        return output\n"
      ],
      "metadata": {
        "id": "wAKwcPZGz33Z"
      },
      "execution_count": 42,
      "outputs": []
    },
    {
      "cell_type": "code",
      "source": [
        "from typing import Optional\n",
        "import torch\n",
        "import time\n",
        "from pathlib import Path\n",
        "import json\n",
        "from sentencepiece import SentencePieceProcessor\n",
        "from tqdm import tqdm"
      ],
      "metadata": {
        "id": "rSI8Rso4e3I8"
      },
      "execution_count": 43,
      "outputs": []
    },
    {
      "cell_type": "code",
      "source": [
        "class LLaMA:\n",
        "\n",
        "    def __init(self, model: Transformer, tokenizer: SentencePieceProcessor, model_args: ModelArgs):\n",
        "        self.model = model\n",
        "        self.tokenizer = tokenizer\n",
        "        self.args = model_args\n",
        "\n",
        "        @staticmethod\n",
        "        def build(checkpoints_dir: str, tokenizer_path: str, load_model: bool, max_seq_len: int, max_batch_size: int, device: str):\n",
        "            prev_time = time.time()\n",
        "            if load_model:\n",
        "                checkpoints = sorted(Path(checkpoints_dir).glob('*.pth'))\n",
        "                assert len(checkpoints) > 0, \"No checkpoints files found\"\n",
        "                chk_path = checkpoints[0]\n",
        "                print(f'Loading checkpoint {chk_path}')\n",
        "                checkpoint = torch.load(chk_path, map_location=\"cpu\")\n",
        "                print(f'Loaded checkpoint in {(time.time() -prev_time):.2f}s')\n",
        "                prev_time = time.time()\n",
        "\n",
        "            with open(Path(checkpoints_dir) / \"params.json\", \"r\") as f:\n",
        "                params = json.loads(f.read())\n",
        "\n",
        "            model_args: ModelArgs = ModelArgs(\n",
        "                max_seq_len=max_seq_len,\n",
        "                max_batch_size=max_batch_size,\n",
        "                device=device,\n",
        "                **params\n",
        "            )\n",
        "\n",
        "            tokenizer = SentencePieceProcessor()\n",
        "            tokenizer.load(tokenizer_path)\n",
        "            model_args.vocab_size = tokenizer.vocab_size()\n",
        "\n",
        "            if device == \"cuda\":\n",
        "                torch.set_default_tensor_type(torch.cuda.HalfTensor)\n",
        "            else:\n",
        "                torch.set_default_tensor_type(torch.BFloat16Tensor)\n",
        "\n",
        "            model = Transformer(model_args).to(device)\n",
        "\n",
        "            if load_model:\n",
        "                del checkpoint[\"rope.freqs\"]\n",
        "                model.load_state_dict(checkpoint, strict=True)\n",
        "                print(f'Loaded state dict in {(time.time() - prev_time):.2f}s')\n",
        "\n",
        "            return LLaMA(model, tokenizer, model_args)"
      ],
      "metadata": {
        "id": "no8hzZ0Ke3FP"
      },
      "execution_count": 44,
      "outputs": []
    },
    {
      "cell_type": "code",
      "source": [
        "allow_cuda = False\n",
        "device = 'cuda' if torch.cuda.is_available() and allow_cuda else 'cpu'\n",
        "\n",
        "model = LLaMA.build(\n",
        "    checkpoints_dir='llama-2-7b/',\n",
        "    tokenizer_path='tokenizer.model',\n",
        "    load_model=True,\n",
        "    max_seq_len=1024,\n",
        "    max_batch_size=3,\n",
        "    device=device\n",
        ")"
      ],
      "metadata": {
        "id": "NX6MMHCxe3CY"
      },
      "execution_count": 44,
      "outputs": []
    },
    {
      "cell_type": "code",
      "source": [],
      "metadata": {
        "id": "Jlh0eSGte251"
      },
      "execution_count": 44,
      "outputs": []
    },
    {
      "cell_type": "code",
      "source": [],
      "metadata": {
        "id": "PSisaqs1e22S"
      },
      "execution_count": 44,
      "outputs": []
    },
    {
      "cell_type": "code",
      "source": [],
      "metadata": {
        "id": "g3od5Q78e2sr"
      },
      "execution_count": 44,
      "outputs": []
    },
    {
      "cell_type": "code",
      "source": [],
      "metadata": {
        "id": "3Fi-nK4Oe2oz"
      },
      "execution_count": 44,
      "outputs": []
    },
    {
      "cell_type": "code",
      "source": [],
      "metadata": {
        "id": "ViLpNhvPe2lr"
      },
      "execution_count": 44,
      "outputs": []
    },
    {
      "cell_type": "code",
      "source": [],
      "metadata": {
        "id": "OD2Gux4le2ii"
      },
      "execution_count": 44,
      "outputs": []
    },
    {
      "cell_type": "code",
      "source": [],
      "metadata": {
        "id": "IGcokLGCe2fc"
      },
      "execution_count": 44,
      "outputs": []
    },
    {
      "cell_type": "code",
      "source": [],
      "metadata": {
        "id": "cizWm0FNe2R3"
      },
      "execution_count": 44,
      "outputs": []
    }
  ]
}
